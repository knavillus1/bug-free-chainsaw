{
 "cells": [
  {
   "cell_type": "markdown",
   "id": "b90fca0f",
   "metadata": {},
   "source": [
    "# Exploring OpenAI Image Edit Features via API\n",
    "\n",
    "This notebook demonstrates how to use the OpenAI API to edit images programmatically. You'll learn how to authenticate, upload images, send edit requests, and visualize results."
   ]
  },
  {
   "cell_type": "markdown",
   "id": "f145923a",
   "metadata": {},
   "source": [
    "## 1. Setup OpenAI API Key\n",
    "\n",
    "To use the OpenAI API, you'll need an API key. Store your key securely and avoid sharing it publicly."
   ]
  },
  {
   "cell_type": "code",
   "execution_count": 1,
   "id": "6392f49e",
   "metadata": {},
   "outputs": [],
   "source": [
    "import os\n",
    "from dotenv import load_dotenv\n",
    "\n",
    "# Load environment variables from .env file\n",
    "load_dotenv()\n",
    "OPENAI_API_KEY = os.getenv('OPENAI_API_KEY')\n",
    "\n",
    "if not OPENAI_API_KEY:\n",
    "    raise ValueError(\"OPENAI_API_KEY not found. Please set it in your .env file.\")\n",
    "\n",
    "import openai\n",
    "openai.api_key = OPENAI_API_KEY"
   ]
  },
  {
   "cell_type": "markdown",
   "id": "2bcb48f6",
   "metadata": {},
   "source": [
    "## 2. Show Image and Create Image Mask\n",
    "\n",
    "This section allows you to interactively view your image and create a mask using rectangle selection. The mask can be used for image editing with the OpenAI API."
   ]
  },
  {
   "cell_type": "code",
   "execution_count": null,
   "id": "9aa99052",
   "metadata": {},
   "outputs": [],
   "source": [
    "import numpy as np\n",
    "import matplotlib.pyplot as plt\n",
    "from PIL import Image\n",
    "from matplotlib.widgets import RectangleSelector\n",
    "\n",
    "# --- Load your RGBA image ---\n",
    "img_path = 'path_to_your_image.png'  # replace with your image path\n",
    "img = Image.open(img_path).convert('RGBA')\n",
    "arr = np.array(img)\n",
    "alpha = arr[:, :, 3]\n",
    "\n",
    "# --- Generate initial mask of fully transparent pixels ---\n",
    "initial_mask = (alpha == 0).astype(np.uint8) * 255\n",
    "\n",
    "# --- Prepare interactive masking ---\n",
    "mask = np.zeros_like(alpha)  # start with an empty mask\n",
    "\n",
    "fig, (ax_img, ax_mask) = plt.subplots(1, 2, figsize=(12, 6))\n",
    "ax_img.imshow(img)\n",
    "ax_img.set_title('Original Image (Draw boxes here)')\n",
    "ax_img.axis('off')\n",
    "ax_mask.imshow(initial_mask, cmap='gray')\n",
    "ax_mask.set_title('Mask (white = transparent)')\n",
    "ax_mask.axis('off')\n",
    "\n",
    "def onselect(eclick, erelease):\n",
    "    x1, y1 = int(eclick.xdata), int(eclick.ydata)\n",
    "    x2, y2 = int(erelease.xdata), int(erelease.ydata)\n",
    "    # Add selected rectangle to mask\n",
    "    mask[min(y1,y2):max(y1,y2), min(x1,x2):max(x1,x2)] = 255\n",
    "    # Combine with initial transparency mask if desired:\n",
    "    combined = np.maximum(initial_mask, mask)\n",
    "    ax_mask.imshow(combined, cmap='gray')\n",
    "    fig.canvas.draw()\n",
    "\n",
    "# Enable rectangle selector on the original image\n",
    "rect_selector = RectangleSelector(\n",
    "    ax_img, onselect,\n",
    "    drawtype='box', useblit=True,\n",
    "    button=[1],  # use left mouse button\n",
    "    minspanx=5, minspany=5, \n",
    "    spancoords='pixels',\n",
    "    interactive=True\n",
    ")\n",
    "\n",
    "plt.show()"
   ]
  },
  {
   "cell_type": "markdown",
   "id": "eaa1b174",
   "metadata": {},
   "source": [
    "## 3. Upload and Prepare Images\n",
    "\n",
    "Load an image from your local system and prepare it for editing with the OpenAI API."
   ]
  },
  {
   "cell_type": "code",
   "execution_count": null,
   "id": "4b6aee96",
   "metadata": {},
   "outputs": [],
   "source": [
    "from PIL import Image\n",
    "import matplotlib.pyplot as plt\n",
    "\n",
    "# Path to your image file\n",
    "image_path = 'your_image.png'  # Change this to your image file\n",
    "\n",
    "# Load and display the image\n",
    "image = Image.open(image_path)\n",
    "plt.imshow(image)\n",
    "plt.axis('off')\n",
    "plt.show()"
   ]
  },
  {
   "cell_type": "markdown",
   "id": "ff6792cd",
   "metadata": {},
   "source": [
    "## 4. Send Image Edit Requests\n",
    "\n",
    "Use the OpenAI API to send an image edit request. You can specify prompts and parameters for the edit."
   ]
  },
  {
   "cell_type": "code",
   "execution_count": null,
   "id": "d6fc631f",
   "metadata": {},
   "outputs": [],
   "source": [
    "# Example: Send an image edit request (update parameters as needed)\n",
    "# Note: Replace 'your_image.png' and 'your_mask.png' with your files\n",
    "\n",
    "response = openai.Image.create_edit(\n",
    "    image=open('your_image.png', 'rb'),\n",
    "    mask=open('your_mask.png', 'rb'),  # Optional: provide a mask image\n",
    "    prompt='A cat wearing sunglasses',\n",
    "    n=1,\n",
    "    size='512x512',\n",
    "    response_format='url',\n",
    ")\n",
    "\n",
    "# Extract the URL of the edited image\n",
    "edited_image_url = response['data'][0]['url']\n",
    "print('Edited image URL:', edited_image_url)"
   ]
  },
  {
   "cell_type": "markdown",
   "id": "10135d3e",
   "metadata": {},
   "source": [
    "## 5. Handle API Responses\n",
    "\n",
    "Parse the response from the API and handle any errors that may occur."
   ]
  },
  {
   "cell_type": "code",
   "execution_count": null,
   "id": "c5181a0b",
   "metadata": {},
   "outputs": [],
   "source": [
    "try:\n",
    "    edited_image_url = response['data'][0]['url']\n",
    "    print('Edited image URL:', edited_image_url)\n",
    "except Exception as e:\n",
    "    print('Error handling API response:', e)"
   ]
  },
  {
   "cell_type": "markdown",
   "id": "4aa34d95",
   "metadata": {},
   "source": [
    "## 6. Display Edited Images\n",
    "\n",
    "Visualize the edited image returned by the OpenAI API."
   ]
  },
  {
   "cell_type": "code",
   "execution_count": null,
   "id": "1441afa8",
   "metadata": {},
   "outputs": [],
   "source": [
    "import requests\n",
    "from io import BytesIO\n",
    "\n",
    "# Download and display the edited image\n",
    "if 'edited_image_url' in locals():\n",
    "    response_img = requests.get(edited_image_url)\n",
    "    edited_image = Image.open(BytesIO(response_img.content))\n",
    "    plt.imshow(edited_image)\n",
    "    plt.axis('off')\n",
    "    plt.show()\n",
    "else:\n",
    "    print('No edited image URL found.')"
   ]
  }
 ],
 "metadata": {
  "kernelspec": {
   "display_name": ".venv",
   "language": "python",
   "name": "python3"
  },
  "language_info": {
   "codemirror_mode": {
    "name": "ipython",
    "version": 3
   },
   "file_extension": ".py",
   "mimetype": "text/x-python",
   "name": "python",
   "nbconvert_exporter": "python",
   "pygments_lexer": "ipython3",
   "version": "3.13.3"
  }
 },
 "nbformat": 4,
 "nbformat_minor": 5
}
