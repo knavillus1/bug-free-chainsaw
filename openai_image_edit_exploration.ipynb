{
 "cells": [
  {
   "cell_type": "markdown",
   "id": "b90fca0f",
   "metadata": {},
   "source": [
    "# Exploring OpenAI Image Edit Features via API\n",
    "\n",
    "This notebook demonstrates how to use the OpenAI API to edit images programmatically. You'll learn how to authenticate, upload images, send edit requests, and visualize results."
   ]
  },
  {
   "cell_type": "markdown",
   "id": "f145923a",
   "metadata": {},
   "source": [
    "## 1. Setup OpenAI API Key\n",
    "\n",
    "To use the OpenAI API, you'll need an API key. Store your key securely and avoid sharing it publicly."
   ]
  },
  {
   "cell_type": "code",
   "execution_count": null,
   "id": "6392f49e",
   "metadata": {},
   "outputs": [],
   "source": [
    "import os\n",
    "from getpass import getpass\n",
    "\n",
    "# Option 1: Load from environment variable\n",
    "OPENAI_API_KEY = os.getenv('OPENAI_API_KEY')\n",
    "\n",
    "# Option 2: Prompt for API key if not set\n",
    "if not OPENAI_API_KEY:\n",
    "    OPENAI_API_KEY = getpass('Enter your OpenAI API key: ')\n",
    "\n",
    "# Set the API key for openai\n",
    "import openai\n",
    "openai.api_key = OPENAI_API_KEY"
   ]
  },
  {
   "cell_type": "markdown",
   "id": "616aef27",
   "metadata": {},
   "source": [
    "## 2. Install Required Libraries\n",
    "\n",
    "Install the necessary Python packages for interacting with the OpenAI API and handling images."
   ]
  },
  {
   "cell_type": "code",
   "execution_count": null,
   "id": "8c9d10bf",
   "metadata": {},
   "outputs": [],
   "source": [
    "!pip install --quiet openai pillow matplotlib"
   ]
  },
  {
   "cell_type": "markdown",
   "id": "eaa1b174",
   "metadata": {},
   "source": [
    "## 3. Upload and Prepare Images\n",
    "\n",
    "Load an image from your local system and prepare it for editing with the OpenAI API."
   ]
  },
  {
   "cell_type": "code",
   "execution_count": null,
   "id": "4b6aee96",
   "metadata": {},
   "outputs": [],
   "source": [
    "from PIL import Image\n",
    "import matplotlib.pyplot as plt\n",
    "\n",
    "# Path to your image file\n",
    "image_path = 'your_image.png'  # Change this to your image file\n",
    "\n",
    "# Load and display the image\n",
    "image = Image.open(image_path)\n",
    "plt.imshow(image)\n",
    "plt.axis('off')\n",
    "plt.show()"
   ]
  },
  {
   "cell_type": "markdown",
   "id": "ff6792cd",
   "metadata": {},
   "source": [
    "## 4. Send Image Edit Requests\n",
    "\n",
    "Use the OpenAI API to send an image edit request. You can specify prompts and parameters for the edit."
   ]
  },
  {
   "cell_type": "code",
   "execution_count": null,
   "id": "d6fc631f",
   "metadata": {},
   "outputs": [],
   "source": [
    "# Example: Send an image edit request (update parameters as needed)\n",
    "# Note: Replace 'your_image.png' and 'your_mask.png' with your files\n",
    "\n",
    "response = openai.Image.create_edit(\n",
    "    image=open('your_image.png', 'rb'),\n",
    "    mask=open('your_mask.png', 'rb'),  # Optional: provide a mask image\n",
    "    prompt='A cat wearing sunglasses',\n",
    "    n=1,\n",
    "    size='512x512',\n",
    "    response_format='url',\n",
    ")\n",
    "\n",
    "# Extract the URL of the edited image\n",
    "edited_image_url = response['data'][0]['url']\n",
    "print('Edited image URL:', edited_image_url)"
   ]
  },
  {
   "cell_type": "markdown",
   "id": "10135d3e",
   "metadata": {},
   "source": [
    "## 5. Handle API Responses\n",
    "\n",
    "Parse the response from the API and handle any errors that may occur."
   ]
  },
  {
   "cell_type": "code",
   "execution_count": null,
   "id": "c5181a0b",
   "metadata": {},
   "outputs": [],
   "source": [
    "try:\n",
    "    edited_image_url = response['data'][0]['url']\n",
    "    print('Edited image URL:', edited_image_url)\n",
    "except Exception as e:\n",
    "    print('Error handling API response:', e)"
   ]
  },
  {
   "cell_type": "markdown",
   "id": "4aa34d95",
   "metadata": {},
   "source": [
    "## 6. Display Edited Images\n",
    "\n",
    "Visualize the edited image returned by the OpenAI API."
   ]
  },
  {
   "cell_type": "code",
   "execution_count": null,
   "id": "1441afa8",
   "metadata": {},
   "outputs": [],
   "source": [
    "import requests\n",
    "from io import BytesIO\n",
    "\n",
    "# Download and display the edited image\n",
    "if 'edited_image_url' in locals():\n",
    "    response_img = requests.get(edited_image_url)\n",
    "    edited_image = Image.open(BytesIO(response_img.content))\n",
    "    plt.imshow(edited_image)\n",
    "    plt.axis('off')\n",
    "    plt.show()\n",
    "else:\n",
    "    print('No edited image URL found.')"
   ]
  }
 ],
 "metadata": {
  "language_info": {
   "name": "python"
  }
 },
 "nbformat": 4,
 "nbformat_minor": 5
}
