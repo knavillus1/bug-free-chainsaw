{
 "cells": [
  {
   "cell_type": "markdown",
   "id": "b90fca0f",
   "metadata": {},
   "source": [
    "# Exploring OpenAI Image Edit Features via API\n",
    "\n",
    "This notebook demonstrates how to use the OpenAI API to edit images programmatically. You'll learn how to authenticate, upload images, send edit requests, and visualize results."
   ]
  },
  {
   "cell_type": "markdown",
   "id": "f145923a",
   "metadata": {},
   "source": [
    "## 1. Setup OpenAI API Key\n",
    "\n",
    "To use the OpenAI API, you'll need an API key. Store your key securely and avoid sharing it publicly."
   ]
  },
  {
   "cell_type": "code",
   "execution_count": null,
   "id": "6392f49e",
   "metadata": {},
   "outputs": [
    {
     "ename": "KeyboardInterrupt",
     "evalue": "Interrupted by user",
     "output_type": "error",
     "traceback": [
      "\u001b[31m---------------------------------------------------------------------------\u001b[39m",
      "\u001b[31mKeyboardInterrupt\u001b[39m                         Traceback (most recent call last)",
      "\u001b[36mCell\u001b[39m\u001b[36m \u001b[39m\u001b[32mIn[1]\u001b[39m\u001b[32m, line 9\u001b[39m\n\u001b[32m      7\u001b[39m \u001b[38;5;66;03m# Option 2: Prompt for API key if not set\u001b[39;00m\n\u001b[32m      8\u001b[39m \u001b[38;5;28;01mif\u001b[39;00m \u001b[38;5;129;01mnot\u001b[39;00m OPENAI_API_KEY:\n\u001b[32m----> \u001b[39m\u001b[32m9\u001b[39m     OPENAI_API_KEY = \u001b[43mgetpass\u001b[49m\u001b[43m(\u001b[49m\u001b[33;43m'\u001b[39;49m\u001b[33;43mEnter your OpenAI API key: \u001b[39;49m\u001b[33;43m'\u001b[39;49m\u001b[43m)\u001b[49m\n\u001b[32m     11\u001b[39m \u001b[38;5;66;03m# Set the API key for openai\u001b[39;00m\n\u001b[32m     12\u001b[39m \u001b[38;5;28;01mimport\u001b[39;00m\u001b[38;5;250m \u001b[39m\u001b[34;01mopenai\u001b[39;00m\n",
      "\u001b[36mFile \u001b[39m\u001b[32m~/code/bug-free-chainsaw/.venv/lib/python3.13/site-packages/ipykernel/kernelbase.py:1265\u001b[39m, in \u001b[36mKernel.getpass\u001b[39m\u001b[34m(self, prompt, stream)\u001b[39m\n\u001b[32m   1258\u001b[39m     \u001b[38;5;28;01mimport\u001b[39;00m\u001b[38;5;250m \u001b[39m\u001b[34;01mwarnings\u001b[39;00m\n\u001b[32m   1260\u001b[39m     warnings.warn(\n\u001b[32m   1261\u001b[39m         \u001b[33m\"\u001b[39m\u001b[33mThe `stream` parameter of `getpass.getpass` will have no effect when using ipykernel\u001b[39m\u001b[33m\"\u001b[39m,\n\u001b[32m   1262\u001b[39m         \u001b[38;5;167;01mUserWarning\u001b[39;00m,\n\u001b[32m   1263\u001b[39m         stacklevel=\u001b[32m2\u001b[39m,\n\u001b[32m   1264\u001b[39m     )\n\u001b[32m-> \u001b[39m\u001b[32m1265\u001b[39m \u001b[38;5;28;01mreturn\u001b[39;00m \u001b[38;5;28;43mself\u001b[39;49m\u001b[43m.\u001b[49m\u001b[43m_input_request\u001b[49m\u001b[43m(\u001b[49m\n\u001b[32m   1266\u001b[39m \u001b[43m    \u001b[49m\u001b[43mprompt\u001b[49m\u001b[43m,\u001b[49m\n\u001b[32m   1267\u001b[39m \u001b[43m    \u001b[49m\u001b[38;5;28;43mself\u001b[39;49m\u001b[43m.\u001b[49m\u001b[43m_parent_ident\u001b[49m\u001b[43m[\u001b[49m\u001b[33;43m\"\u001b[39;49m\u001b[33;43mshell\u001b[39;49m\u001b[33;43m\"\u001b[39;49m\u001b[43m]\u001b[49m\u001b[43m,\u001b[49m\n\u001b[32m   1268\u001b[39m \u001b[43m    \u001b[49m\u001b[38;5;28;43mself\u001b[39;49m\u001b[43m.\u001b[49m\u001b[43mget_parent\u001b[49m\u001b[43m(\u001b[49m\u001b[33;43m\"\u001b[39;49m\u001b[33;43mshell\u001b[39;49m\u001b[33;43m\"\u001b[39;49m\u001b[43m)\u001b[49m\u001b[43m,\u001b[49m\n\u001b[32m   1269\u001b[39m \u001b[43m    \u001b[49m\u001b[43mpassword\u001b[49m\u001b[43m=\u001b[49m\u001b[38;5;28;43;01mTrue\u001b[39;49;00m\u001b[43m,\u001b[49m\n\u001b[32m   1270\u001b[39m \u001b[43m\u001b[49m\u001b[43m)\u001b[49m\n",
      "\u001b[36mFile \u001b[39m\u001b[32m~/code/bug-free-chainsaw/.venv/lib/python3.13/site-packages/ipykernel/kernelbase.py:1325\u001b[39m, in \u001b[36mKernel._input_request\u001b[39m\u001b[34m(self, prompt, ident, parent, password)\u001b[39m\n\u001b[32m   1322\u001b[39m \u001b[38;5;28;01mexcept\u001b[39;00m \u001b[38;5;167;01mKeyboardInterrupt\u001b[39;00m:\n\u001b[32m   1323\u001b[39m     \u001b[38;5;66;03m# re-raise KeyboardInterrupt, to truncate traceback\u001b[39;00m\n\u001b[32m   1324\u001b[39m     msg = \u001b[33m\"\u001b[39m\u001b[33mInterrupted by user\u001b[39m\u001b[33m\"\u001b[39m\n\u001b[32m-> \u001b[39m\u001b[32m1325\u001b[39m     \u001b[38;5;28;01mraise\u001b[39;00m \u001b[38;5;167;01mKeyboardInterrupt\u001b[39;00m(msg) \u001b[38;5;28;01mfrom\u001b[39;00m\u001b[38;5;250m \u001b[39m\u001b[38;5;28;01mNone\u001b[39;00m\n\u001b[32m   1326\u001b[39m \u001b[38;5;28;01mexcept\u001b[39;00m \u001b[38;5;167;01mException\u001b[39;00m:\n\u001b[32m   1327\u001b[39m     \u001b[38;5;28mself\u001b[39m.log.warning(\u001b[33m\"\u001b[39m\u001b[33mInvalid Message:\u001b[39m\u001b[33m\"\u001b[39m, exc_info=\u001b[38;5;28;01mTrue\u001b[39;00m)\n",
      "\u001b[31mKeyboardInterrupt\u001b[39m: Interrupted by user"
     ]
    }
   ],
   "source": [
    "import os\n",
    "from dotenv import load_dotenv\n",
    "\n",
    "# Load environment variables from .env file\n",
    "load_dotenv()\n",
    "OPENAI_API_KEY = os.getenv('OPENAI_API_KEY')\n",
    "\n",
    "if not OPENAI_API_KEY:\n",
    "    raise ValueError(\"OPENAI_API_KEY not found. Please set it in your .env file.\")\n",
    "\n",
    "import openai\n",
    "openai.api_key = OPENAI_API_KEY"
   ]
  },
  {
   "cell_type": "markdown",
   "id": "616aef27",
   "metadata": {},
   "source": [
    "## 2. Install Required Libraries\n",
    "\n",
    "All required libraries are listed in requirements.txt. Please run `./dev-init.sh` in your terminal to set up the environment and install dependencies before running this notebook."
   ]
  },
  {
   "cell_type": "code",
   "execution_count": null,
   "id": "8c9d10bf",
   "metadata": {},
   "outputs": [],
   "source": [
    "# Dependencies are managed by dev-init.sh and requirements.txt\n",
    "# No need to install packages here."
   ]
  },
  {
   "cell_type": "markdown",
   "id": "eaa1b174",
   "metadata": {},
   "source": [
    "## 3. Upload and Prepare Images\n",
    "\n",
    "Load an image from your local system and prepare it for editing with the OpenAI API."
   ]
  },
  {
   "cell_type": "code",
   "execution_count": null,
   "id": "4b6aee96",
   "metadata": {},
   "outputs": [],
   "source": [
    "from PIL import Image\n",
    "import matplotlib.pyplot as plt\n",
    "\n",
    "# Path to your image file\n",
    "image_path = 'your_image.png'  # Change this to your image file\n",
    "\n",
    "# Load and display the image\n",
    "image = Image.open(image_path)\n",
    "plt.imshow(image)\n",
    "plt.axis('off')\n",
    "plt.show()"
   ]
  },
  {
   "cell_type": "markdown",
   "id": "ff6792cd",
   "metadata": {},
   "source": [
    "## 4. Send Image Edit Requests\n",
    "\n",
    "Use the OpenAI API to send an image edit request. You can specify prompts and parameters for the edit."
   ]
  },
  {
   "cell_type": "code",
   "execution_count": null,
   "id": "d6fc631f",
   "metadata": {},
   "outputs": [],
   "source": [
    "# Example: Send an image edit request (update parameters as needed)\n",
    "# Note: Replace 'your_image.png' and 'your_mask.png' with your files\n",
    "\n",
    "response = openai.Image.create_edit(\n",
    "    image=open('your_image.png', 'rb'),\n",
    "    mask=open('your_mask.png', 'rb'),  # Optional: provide a mask image\n",
    "    prompt='A cat wearing sunglasses',\n",
    "    n=1,\n",
    "    size='512x512',\n",
    "    response_format='url',\n",
    ")\n",
    "\n",
    "# Extract the URL of the edited image\n",
    "edited_image_url = response['data'][0]['url']\n",
    "print('Edited image URL:', edited_image_url)"
   ]
  },
  {
   "cell_type": "markdown",
   "id": "10135d3e",
   "metadata": {},
   "source": [
    "## 5. Handle API Responses\n",
    "\n",
    "Parse the response from the API and handle any errors that may occur."
   ]
  },
  {
   "cell_type": "code",
   "execution_count": null,
   "id": "c5181a0b",
   "metadata": {},
   "outputs": [],
   "source": [
    "try:\n",
    "    edited_image_url = response['data'][0]['url']\n",
    "    print('Edited image URL:', edited_image_url)\n",
    "except Exception as e:\n",
    "    print('Error handling API response:', e)"
   ]
  },
  {
   "cell_type": "markdown",
   "id": "4aa34d95",
   "metadata": {},
   "source": [
    "## 6. Display Edited Images\n",
    "\n",
    "Visualize the edited image returned by the OpenAI API."
   ]
  },
  {
   "cell_type": "code",
   "execution_count": null,
   "id": "1441afa8",
   "metadata": {},
   "outputs": [],
   "source": [
    "import requests\n",
    "from io import BytesIO\n",
    "\n",
    "# Download and display the edited image\n",
    "if 'edited_image_url' in locals():\n",
    "    response_img = requests.get(edited_image_url)\n",
    "    edited_image = Image.open(BytesIO(response_img.content))\n",
    "    plt.imshow(edited_image)\n",
    "    plt.axis('off')\n",
    "    plt.show()\n",
    "else:\n",
    "    print('No edited image URL found.')"
   ]
  }
 ],
 "metadata": {
  "kernelspec": {
   "display_name": ".venv",
   "language": "python",
   "name": "python3"
  },
  "language_info": {
   "codemirror_mode": {
    "name": "ipython",
    "version": 3
   },
   "file_extension": ".py",
   "mimetype": "text/x-python",
   "name": "python",
   "nbconvert_exporter": "python",
   "pygments_lexer": "ipython3",
   "version": "3.13.3"
  }
 },
 "nbformat": 4,
 "nbformat_minor": 5
}
